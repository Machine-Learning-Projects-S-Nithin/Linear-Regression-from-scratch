{
 "cells": [
  {
   "cell_type": "code",
   "execution_count": 1,
   "id": "851bfa03",
   "metadata": {},
   "outputs": [],
   "source": [
    "import pandas as pd\n",
    "import numpy as np"
   ]
  },
  {
   "cell_type": "markdown",
   "id": "8ba0fb44",
   "metadata": {},
   "source": [
    "# Dimensions\n",
    "## X:(m,n)\n",
    "## Y:(m,1)\n",
    "## w:(n,1)"
   ]
  },
  {
   "cell_type": "code",
   "execution_count": 2,
   "id": "94145503",
   "metadata": {},
   "outputs": [],
   "source": [
    "class LinearReg:\n",
    "    iterations=100000\n",
    "    learning_rate=0.007\n",
    "    \n",
    "    def init_weights(self, x):\n",
    "        return np.zeros(x.shape[1]).reshape(-1,1)\n",
    "    def hypothesis(self,x,w):\n",
    "        y_hat=x @ w\n",
    "        return y_hat\n",
    "    def cost_fn(self,y,y_hat):\n",
    "        m=y.shape[0]\n",
    "        cost=(1/(2*m))*float(sum(np.square(y_hat-y)))\n",
    "        return cost\n",
    "    def gradient_descent(self,x,y,w,y_hat,alpha):\n",
    "        m=y.shape[0]\n",
    "        w-=(alpha/m)*(np.transpose(x) @ (y_hat-y))\n",
    "        return w\n",
    "    def fit_model(self,x,y,verbose):\n",
    "        weights=self.init_weights(x)\n",
    "        costs=[]\n",
    "        for itertaion in range(self.iterations):\n",
    "            weights=self.gradient_descent(x,y,weights,self.hypothesis(x,weights), self.learning_rate)\n",
    "            J=self.cost_fn(y, self.hypothesis(x,weights))\n",
    "            costs.append(J)\n",
    "            if itertaion==int(self.iterations/4) and verbose:\n",
    "                print(f\"Cost after {itertaion}/{self.iterations} iterations is : {J}\")\n",
    "            if itertaion==int(self.iterations/2) and verbose:\n",
    "                print(f\"Cost after {itertaion}/{self.iterations} iterations is : {J}\")\n",
    "            if itertaion==int(3*self.iterations/4) and verbose:\n",
    "                print(f\"Cost after {itertaion}/{self.iterations} iterations is : {J}\")\n",
    "        print(f\"Cost after {self.iterations}/{self.iterations} iterations is : {J}\")\n",
    "        return weights,J,costs\n",
    "            "
   ]
  },
  {
   "cell_type": "code",
   "execution_count": 3,
   "id": "221219bd",
   "metadata": {},
   "outputs": [
    {
     "name": "stdout",
     "output_type": "stream",
     "text": [
      "Cost after 25000/100000 iterations is : 0.0007268951176703186\n",
      "Cost after 50000/100000 iterations is : 0.0007268951176703186\n",
      "Cost after 75000/100000 iterations is : 0.0007268951176703186\n",
      "Cost after 100000/100000 iterations is : 0.0007268951176703186\n"
     ]
    },
    {
     "data": {
      "text/plain": [
       "0.0007268951176703186"
      ]
     },
     "execution_count": 3,
     "metadata": {},
     "output_type": "execute_result"
    }
   ],
   "source": [
    "X2=np.random.rand(500,1)\n",
    "Y2=(3*X2)+(np.random.rand(500,1)*0.1)\n",
    "model1=LinearReg()\n",
    "weights1,J1,costs1=model1.fit_model(X2,Y2, True)\n",
    "J1"
   ]
  },
  {
   "cell_type": "code",
   "execution_count": 4,
   "id": "74c423cb",
   "metadata": {},
   "outputs": [
    {
     "data": {
      "text/html": [
       "<div>\n",
       "<style scoped>\n",
       "    .dataframe tbody tr th:only-of-type {\n",
       "        vertical-align: middle;\n",
       "    }\n",
       "\n",
       "    .dataframe tbody tr th {\n",
       "        vertical-align: top;\n",
       "    }\n",
       "\n",
       "    .dataframe thead th {\n",
       "        text-align: right;\n",
       "    }\n",
       "</style>\n",
       "<table border=\"1\" class=\"dataframe\">\n",
       "  <thead>\n",
       "    <tr style=\"text-align: right;\">\n",
       "      <th></th>\n",
       "      <th>youtube</th>\n",
       "      <th>facebook</th>\n",
       "      <th>newspaper</th>\n",
       "      <th>sales</th>\n",
       "    </tr>\n",
       "  </thead>\n",
       "  <tbody>\n",
       "    <tr>\n",
       "      <th>0</th>\n",
       "      <td>84.72</td>\n",
       "      <td>19.20</td>\n",
       "      <td>48.96</td>\n",
       "      <td>12.60</td>\n",
       "    </tr>\n",
       "    <tr>\n",
       "      <th>1</th>\n",
       "      <td>351.48</td>\n",
       "      <td>33.96</td>\n",
       "      <td>51.84</td>\n",
       "      <td>25.68</td>\n",
       "    </tr>\n",
       "    <tr>\n",
       "      <th>2</th>\n",
       "      <td>135.48</td>\n",
       "      <td>20.88</td>\n",
       "      <td>46.32</td>\n",
       "      <td>14.28</td>\n",
       "    </tr>\n",
       "    <tr>\n",
       "      <th>3</th>\n",
       "      <td>116.64</td>\n",
       "      <td>1.80</td>\n",
       "      <td>36.00</td>\n",
       "      <td>11.52</td>\n",
       "    </tr>\n",
       "    <tr>\n",
       "      <th>4</th>\n",
       "      <td>318.72</td>\n",
       "      <td>24.00</td>\n",
       "      <td>0.36</td>\n",
       "      <td>20.88</td>\n",
       "    </tr>\n",
       "  </tbody>\n",
       "</table>\n",
       "</div>"
      ],
      "text/plain": [
       "   youtube  facebook  newspaper  sales\n",
       "0    84.72     19.20      48.96  12.60\n",
       "1   351.48     33.96      51.84  25.68\n",
       "2   135.48     20.88      46.32  14.28\n",
       "3   116.64      1.80      36.00  11.52\n",
       "4   318.72     24.00       0.36  20.88"
      ]
     },
     "execution_count": 4,
     "metadata": {},
     "output_type": "execute_result"
    }
   ],
   "source": [
    "test_data=pd.read_csv('Dataset\\Marketing_Data.csv')\n",
    "test_data.head()"
   ]
  },
  {
   "cell_type": "code",
   "execution_count": 5,
   "id": "d17fd6c8",
   "metadata": {},
   "outputs": [],
   "source": [
    "x=test_data.iloc[:,:-1]\n",
    "y=test_data.iloc[:,-1]\n",
    "x=x.to_numpy()\n",
    "y=y.to_numpy().reshape(-1,1)"
   ]
  },
  {
   "cell_type": "code",
   "execution_count": 6,
   "id": "0f8f04e6",
   "metadata": {},
   "outputs": [
    {
     "name": "stderr",
     "output_type": "stream",
     "text": [
      "C:\\Users\\nithi\\AppData\\Local\\Temp/ipykernel_28828/3574939118.py:12: RuntimeWarning: overflow encountered in square\n",
      "  cost=(1/(2*m))*float(sum(np.square(y_hat-y)))\n",
      "C:\\Users\\nithi\\AppData\\Local\\Temp/ipykernel_28828/3574939118.py:16: RuntimeWarning: overflow encountered in matmul\n",
      "  w-=(alpha/m)*(np.transpose(x) @ (y_hat-y))\n",
      "C:\\Users\\nithi\\AppData\\Local\\Temp/ipykernel_28828/3574939118.py:8: RuntimeWarning: invalid value encountered in matmul\n",
      "  y_hat=x @ w\n",
      "C:\\Users\\nithi\\AppData\\Local\\Temp/ipykernel_28828/3574939118.py:16: RuntimeWarning: invalid value encountered in matmul\n",
      "  w-=(alpha/m)*(np.transpose(x) @ (y_hat-y))\n",
      "C:\\Users\\nithi\\AppData\\Local\\Temp/ipykernel_28828/3574939118.py:16: RuntimeWarning: invalid value encountered in subtract\n",
      "  w-=(alpha/m)*(np.transpose(x) @ (y_hat-y))\n"
     ]
    },
    {
     "name": "stdout",
     "output_type": "stream",
     "text": [
      "Cost after 25000/100000 iterations is : nan\n",
      "Cost after 50000/100000 iterations is : nan\n",
      "Cost after 75000/100000 iterations is : nan\n",
      "Cost after 100000/100000 iterations is : nan\n"
     ]
    },
    {
     "data": {
      "text/plain": [
       "nan"
      ]
     },
     "execution_count": 6,
     "metadata": {},
     "output_type": "execute_result"
    }
   ],
   "source": [
    "model2=LinearReg()\n",
    "weights2,J2,costs2=model2.fit_model(x,y,True)\n",
    "J2"
   ]
  },
  {
   "cell_type": "markdown",
   "id": "b6309130",
   "metadata": {},
   "source": [
    "## Normailization"
   ]
  },
  {
   "cell_type": "code",
   "execution_count": 7,
   "id": "3e065fa5",
   "metadata": {},
   "outputs": [],
   "source": [
    "from sklearn.preprocessing import MinMaxScaler"
   ]
  },
  {
   "cell_type": "code",
   "execution_count": 8,
   "id": "d3cd19c6",
   "metadata": {},
   "outputs": [],
   "source": [
    "scaler = MinMaxScaler()\n",
    "scaler.fit(x)\n",
    "x = scaler.transform(x)"
   ]
  },
  {
   "cell_type": "code",
   "execution_count": 9,
   "id": "f38fe1ed",
   "metadata": {},
   "outputs": [
    {
     "name": "stdout",
     "output_type": "stream",
     "text": [
      "Cost after 25000/100000 iterations is : 2.9094026388350724\n",
      "Cost after 50000/100000 iterations is : 2.9094011984176302\n",
      "Cost after 75000/100000 iterations is : 2.909401198413865\n",
      "Cost after 100000/100000 iterations is : 2.9094011984138635\n"
     ]
    },
    {
     "data": {
      "text/plain": [
       "2.9094011984138635"
      ]
     },
     "execution_count": 9,
     "metadata": {},
     "output_type": "execute_result"
    }
   ],
   "source": [
    "model3=LinearReg()\n",
    "weights3,J3,costs3=model3.fit_model(x,y,True)\n",
    "J3"
   ]
  },
  {
   "cell_type": "code",
   "execution_count": 10,
   "id": "a1e0cdd3",
   "metadata": {},
   "outputs": [],
   "source": [
    "import matplotlib.pyplot as plt\n",
    "from mpl_toolkits.mplot3d import Axes3D"
   ]
  },
  {
   "cell_type": "code",
   "execution_count": 11,
   "id": "dc374170",
   "metadata": {},
   "outputs": [
    {
     "name": "stderr",
     "output_type": "stream",
     "text": [
      "C:\\Users\\nithi\\AppData\\Local\\Temp/ipykernel_28828/4085804078.py:2: MatplotlibDeprecationWarning: Axes3D(fig) adding itself to the figure is deprecated since 3.4. Pass the keyword argument auto_add_to_figure=False and use fig.add_axes(ax) to suppress this warning. The default value of auto_add_to_figure will change to False in mpl3.5 and True values will no longer work in 3.6.  This is consistent with other Axes classes.\n",
      "  ax=Axes3D(fig)\n"
     ]
    },
    {
     "data": {
      "text/plain": [
       "<mpl_toolkits.mplot3d.art3d.Path3DCollection at 0x248d9494940>"
      ]
     },
     "execution_count": 11,
     "metadata": {},
     "output_type": "execute_result"
    },
    {
     "data": {
      "image/png": "[encoded data removed]",
      "text/plain": [
       "<Figure size 432x288 with 1 Axes>"
      ]
     },
     "metadata": {
      "needs_background": "light"
     },
     "output_type": "display_data"
    }
   ],
   "source": [
    "fig=plt.figure()\n",
    "ax=Axes3D(fig)\n",
    "ax.scatter(x[:,0], x[:,1], x[:,2])\n"
   ]
  },
  {
   "cell_type": "code",
   "execution_count": 12,
   "id": "306b74f3",
   "metadata": {},
   "outputs": [],
   "source": [
    "y_pred=LinearReg.hypothesis(1,x,weights3)"
   ]
  },
  {
   "cell_type": "code",
   "execution_count": 13,
   "id": "674480ab",
   "metadata": {
    "scrolled": true
   },
   "outputs": [
    {
     "data": {
      "text/plain": [
       "<matplotlib.collections.PathCollection at 0x248d9a00850>"
      ]
     },
     "execution_count": 13,
     "metadata": {},
     "output_type": "execute_result"
    },
    {
     "data": {
      "image/png": "[encoded data removed]",
      "text/plain": [
       "<Figure size 432x288 with 1 Axes>"
      ]
     },
     "metadata": {
      "needs_background": "light"
     },
     "output_type": "display_data"
    }
   ],
   "source": [
    "plt.scatter(y_pred,y)"
   ]
  },
  {
   "cell_type": "markdown",
   "id": "7d672891",
   "metadata": {},
   "source": [
    "## R<sup>2</sup> Score Calculation"
   ]
  },
  {
   "cell_type": "code",
   "execution_count": 14,
   "id": "8e91a320",
   "metadata": {},
   "outputs": [
    {
     "data": {
      "text/plain": [
       "array([0.85321284])"
      ]
     },
     "execution_count": 14,
     "metadata": {},
     "output_type": "execute_result"
    }
   ],
   "source": [
    "def r2_score(y,y_pred):\n",
    "    mean_y=np.mean(y)\n",
    "    ss_tot=sum((y-mean_y)**2)\n",
    "    ss_res=sum((y-y_pred)**2)\n",
    "    r2=1-(ss_res/ss_tot)\n",
    "    return r2\n",
    "r2_score(y,y_pred)"
   ]
  }
 ],
 "metadata": {
  "kernelspec": {
   "display_name": "Python 3 (ipykernel)",
   "language": "python",
   "name": "python3"
  },
  "language_info": {
   "codemirror_mode": {
    "name": "ipython",
    "version": 3
   },
   "file_extension": ".py",
   "mimetype": "text/x-python",
   "name": "python",
   "nbconvert_exporter": "python",
   "pygments_lexer": "ipython3",
   "version": "3.9.7"
  }
 },
 "nbformat": 4,
 "nbformat_minor": 5
}
